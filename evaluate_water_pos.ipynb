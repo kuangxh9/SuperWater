{
 "cells": [
  {
   "cell_type": "code",
   "execution_count": 188,
   "id": "51886a7d",
   "metadata": {},
   "outputs": [],
   "source": [
    "import os\n",
    "import numpy as np\n",
    "from scipy.spatial.distance import cdist"
   ]
  },
  {
   "cell_type": "code",
   "execution_count": 189,
   "id": "563b7553",
   "metadata": {},
   "outputs": [
    {
     "data": {
      "text/plain": [
       "17092"
      ]
     },
     "execution_count": 189,
     "metadata": {},
     "output_type": "execute_result"
    }
   ],
   "source": [
    "len(os.listdir('data/waterbind/'))"
   ]
  },
  {
   "cell_type": "code",
   "execution_count": 190,
   "id": "ff36b220",
   "metadata": {},
   "outputs": [],
   "source": [
    "from openbabel import openbabel"
   ]
  },
  {
   "cell_type": "code",
   "execution_count": 191,
   "id": "59bc1e65",
   "metadata": {},
   "outputs": [
    {
     "data": {
      "text/plain": [
       "<module 'openbabel.openbabel' from '/usr/local/lib/python3.10/dist-packages/openbabel/openbabel.py'>"
      ]
     },
     "execution_count": 191,
     "metadata": {},
     "output_type": "execute_result"
    }
   ],
   "source": [
    "openbabel"
   ]
  },
  {
   "cell_type": "code",
   "execution_count": 192,
   "id": "e7d85c91",
   "metadata": {},
   "outputs": [],
   "source": [
    "ground_truth_unfiltered_dir = 'data/waterbind/'\n",
    "ground_truth_bfactor40_dir = 'data/waterbind_bf40/'\n",
    "inference_val_unfiltered_dir = 'inference_out/DiffWaterInference_test_rr1'\n",
    "inference_test_unfiltered_dir = 'inference_out/DiffWaterInference_test_rr1_L20'"
   ]
  },
  {
   "cell_type": "code",
   "execution_count": 193,
   "id": "b9359097",
   "metadata": {},
   "outputs": [
    {
     "ename": "FileNotFoundError",
     "evalue": "[Errno 2] No such file or directory: 'inference_out/DiffWaterInference_test_rr1_L20'",
     "output_type": "error",
     "traceback": [
      "\u001b[0;31m---------------------------------------------------------------------------\u001b[0m",
      "\u001b[0;31mFileNotFoundError\u001b[0m                         Traceback (most recent call last)",
      "Cell \u001b[0;32mIn[193], line 1\u001b[0m\n\u001b[0;32m----> 1\u001b[0m file_names \u001b[38;5;241m=\u001b[39m \u001b[43mos\u001b[49m\u001b[38;5;241;43m.\u001b[39;49m\u001b[43mlistdir\u001b[49m\u001b[43m(\u001b[49m\u001b[43minference_test_unfiltered_dir\u001b[49m\u001b[43m)\u001b[49m\n",
      "\u001b[0;31mFileNotFoundError\u001b[0m: [Errno 2] No such file or directory: 'inference_out/DiffWaterInference_test_rr1_L20'"
     ]
    }
   ],
   "source": [
    "file_names = os.listdir(inference_test_unfiltered_dir)"
   ]
  },
  {
   "cell_type": "code",
   "execution_count": 194,
   "id": "829bd59e",
   "metadata": {},
   "outputs": [
    {
     "ename": "NameError",
     "evalue": "name 'file_names' is not defined",
     "output_type": "error",
     "traceback": [
      "\u001b[0;31m---------------------------------------------------------------------------\u001b[0m",
      "\u001b[0;31mNameError\u001b[0m                                 Traceback (most recent call last)",
      "Cell \u001b[0;32mIn[194], line 1\u001b[0m\n\u001b[0;32m----> 1\u001b[0m \u001b[43mfile_names\u001b[49m[:\u001b[38;5;241m5\u001b[39m]\n",
      "\u001b[0;31mNameError\u001b[0m: name 'file_names' is not defined"
     ]
    }
   ],
   "source": [
    "file_names[:5]"
   ]
  },
  {
   "cell_type": "code",
   "execution_count": 195,
   "id": "6d1a3421",
   "metadata": {},
   "outputs": [],
   "source": [
    "def read_inference_pdb_files(directory):\n",
    "    pdb_files = {}\n",
    "    for filename in os.listdir(directory):\n",
    "        if filename.endswith(\".pdb\"):\n",
    "            pdb_id = filename.split('_')[0]\n",
    "            pdb_files[pdb_id] = os.path.join(directory, filename)\n",
    "    return pdb_files"
   ]
  },
  {
   "cell_type": "code",
   "execution_count": 196,
   "id": "2689460d",
   "metadata": {},
   "outputs": [],
   "source": [
    "def read_ground_truth_pdb_files(directory, predicted_ids):\n",
    "    pdb_files = {}\n",
    "    for subdir in os.listdir(directory):\n",
    "        if subdir in predicted_ids:\n",
    "            subdir_path = os.path.join(directory, subdir)\n",
    "            water_pdb_path = os.path.join(subdir_path, subdir + \"_water.pdb\")\n",
    "            if os.path.exists(water_pdb_path):\n",
    "                pdb_files[subdir] = water_pdb_path\n",
    "    return pdb_files"
   ]
  },
  {
   "cell_type": "code",
   "execution_count": 197,
   "id": "94480d02",
   "metadata": {},
   "outputs": [],
   "source": [
    "def extract_last_inference_model(pdb_file_path):\n",
    "    models_content = []\n",
    "    current_model = []\n",
    "    reading_model = False\n",
    "\n",
    "    with open(pdb_file_path, 'r') as file:\n",
    "        for line in file:\n",
    "            if line.startswith(\"MODEL\"):\n",
    "                reading_model = True  # Start reading a new model\n",
    "                current_model = []    # Reset the current model list\n",
    "            elif line.startswith(\"ENDMDL\"):\n",
    "                reading_model = False\n",
    "                models_content.append(\"\".join(current_model))  # Store the model's content\n",
    "            elif reading_model:\n",
    "                current_model.append(line)  # Collect lines that belong to the current model\n",
    "    \n",
    "    last_model = models_content[-1].split('\\n')[1:][:-1]\n",
    "    return last_model"
   ]
  },
  {
   "cell_type": "code",
   "execution_count": 198,
   "id": "5f3f34b4",
   "metadata": {},
   "outputs": [],
   "source": [
    "def extract_truth_water_pos(pdb_file_path):\n",
    "    with open(pdb_file_path, 'r') as file:\n",
    "        lines = file.readlines()\n",
    "    true_water_pos = []\n",
    "    for line in lines:\n",
    "        parts = line.split()\n",
    "        if len(parts) < 6:\n",
    "            continue\n",
    "        try:\n",
    "            x = float(line[30:38].strip())\n",
    "            y = float(line[38:46].strip())\n",
    "            z = float(line[46:54].strip())\n",
    "        except:\n",
    "            continue\n",
    "        true_water_pos.append(tuple((x, y, z)))\n",
    "    return np.array(true_water_pos)"
   ]
  },
  {
   "cell_type": "code",
   "execution_count": 199,
   "id": "f8a184a0",
   "metadata": {},
   "outputs": [],
   "source": [
    "def extract_inference_water_pos(pdb_file_path):\n",
    "    last_inference_model = extract_last_inference_model(pdb_file_path)\n",
    "    inference_water_pos = []\n",
    "    for line in last_inference_model:\n",
    "        parts = line.split()\n",
    "        if len(parts) < 6:\n",
    "            continue\n",
    "        try:\n",
    "            x = float(line[30:38].strip())\n",
    "            y = float(line[38:46].strip())\n",
    "            z = float(line[46:54].strip())\n",
    "        except:\n",
    "            continue\n",
    "        inference_water_pos.append(tuple((x, y, z)))\n",
    "    inference_water_pos = np.array(inference_water_pos)\n",
    "    filtered_inference_water_pos = inference_water_pos[~np.all(inference_water_pos == 0, axis=1)]\n",
    "    return filtered_inference_water_pos"
   ]
  },
  {
   "cell_type": "code",
   "execution_count": 200,
   "id": "cc7a8d20",
   "metadata": {},
   "outputs": [],
   "source": [
    "def calculate_rmsd(true_coords, predicted_coords):\n",
    "    diff = np.array(true_coords) - np.array(predicted_coords)\n",
    "    return np.sqrt((diff ** 2).sum() / len(true_coords))"
   ]
  },
  {
   "cell_type": "code",
   "execution_count": 201,
   "id": "3e8b4fdd",
   "metadata": {},
   "outputs": [],
   "source": [
    "def calculate_coverage_rate(true_water_pos, inference_water_pos, cutoff=1):\n",
    "    distance_matrix = cdist(inference_water_pos, true_water_pos)\n",
    "    # Initialize a variable to count the number of predicted waters within the cutoff distance of any true water\n",
    "    coverage_count = 0\n",
    "    used_true_water_pos = set()  # To keep track of true waters that have been matched\n",
    "\n",
    "    for row in distance_matrix:\n",
    "        # Find the index of the nearest true water molecule for each predicted water molecule\n",
    "        nearest_true_water_index = np.argmin(row)\n",
    "        if row[nearest_true_water_index] <= cutoff and nearest_true_water_index not in used_true_water_pos:\n",
    "            coverage_count += 1\n",
    "            used_true_water_pos.add(nearest_true_water_index)  # Mark this true water as matched\n",
    "\n",
    "    return coverage_count / len(true_water_pos)"
   ]
  },
  {
   "cell_type": "code",
   "execution_count": 202,
   "id": "b248d311",
   "metadata": {},
   "outputs": [],
   "source": [
    "def calculate_precision(true_water_pos, inference_water_pos, cutoff=1):\n",
    "    distance_matrix = cdist(inference_water_pos, true_water_pos)\n",
    "    coverage_count = 0\n",
    "    for row in distance_matrix:\n",
    "        # Find the index of the nearest true water molecule for each predicted water molecule\n",
    "        nearest_true_water_index = np.argmin(row)\n",
    "        if row[nearest_true_water_index] <= cutoff:\n",
    "            coverage_count += 1\n",
    "    return coverage_count / len(inference_water_pos)"
   ]
  },
  {
   "cell_type": "code",
   "execution_count": 203,
   "id": "6ca0c46b",
   "metadata": {},
   "outputs": [],
   "source": [
    "def calculate_val_average_coverage_rate_and_precision(cutoff=1):\n",
    "    inference_pdb_files = read_inference_pdb_files(inference_val_unfiltered_dir)\n",
    "    ground_truth_pdb_files = read_ground_truth_pdb_files(ground_truth_unfiltered_dir, inference_pdb_files.keys())\n",
    "    pdb_ids = list(inference_pdb_files.keys())\n",
    "    all_coverage_rate = []\n",
    "    all_precision = []\n",
    "    for pdb_id in pdb_ids:\n",
    "        inference_water_pos = extract_inference_water_pos(inference_pdb_files[pdb_id])\n",
    "        true_water_pos = extract_truth_water_pos(ground_truth_pdb_files[pdb_id])\n",
    "        water_coverage_rate = calculate_coverage_rate(true_water_pos, inference_water_pos, cutoff)\n",
    "        water_precision = calculate_precision(true_water_pos, inference_water_pos, cutoff)\n",
    "        all_coverage_rate.append(water_coverage_rate)\n",
    "        all_precision.append(water_precision)\n",
    "        \n",
    "    average_coverage_rate = np.mean(all_coverage_rate)\n",
    "    average_precision = np.mean(all_precision)\n",
    "    print(f'Max Coverage Rate within Cutoff {cutoff}A: ', max(all_coverage_rate))\n",
    "    print(f'Max Precision within Cutoff {cutoff}A: ', max(all_precision))\n",
    "    print(f'Average Coverage Rate within Cutoff {cutoff}A: ', average_coverage_rate)\n",
    "    print(f'Average Precision within Cutoff {cutoff}A: ', average_precision)\n",
    "    return average_coverage_rate, average_precision"
   ]
  },
  {
   "cell_type": "code",
   "execution_count": 204,
   "id": "c895f00d",
   "metadata": {},
   "outputs": [],
   "source": [
    "from tqdm import tqdm\n",
    "\n",
    "def calculate_test_average_coverage_rate_and_precision(cutoff=1, queit=False):\n",
    "    inference_pdb_files = read_inference_pdb_files(inference_test_unfiltered_dir)\n",
    "    ground_truth_pdb_files = read_ground_truth_pdb_files(ground_truth_unfiltered_dir, inference_pdb_files.keys())\n",
    "    pdb_ids = list(inference_pdb_files.keys())\n",
    "    all_coverage_rate = []\n",
    "    all_precision = []\n",
    "    \n",
    "    coverage_rate_dict = {}\n",
    "    precision_dict = {}\n",
    "    \n",
    "    for i in tqdm(range(len(pdb_ids))):\n",
    "        pdb_id = pdb_ids[i]\n",
    "        inference_water_pos = extract_inference_water_pos(inference_pdb_files[pdb_id])\n",
    "#         print('inference_water_pos: ', inference_water_pos.shape)\n",
    "\n",
    "        true_water_pos = extract_truth_water_pos(ground_truth_pdb_files[pdb_id])\n",
    "#         print('true_water_pos: ', true_water_pos.shape)\n",
    "#         return\n",
    "        \n",
    "        water_coverage_rate = calculate_coverage_rate(true_water_pos, inference_water_pos, cutoff)\n",
    "        water_precision = calculate_precision(true_water_pos, inference_water_pos, cutoff)\n",
    "        \n",
    "        all_coverage_rate.append(water_coverage_rate)\n",
    "        all_precision.append(water_precision)\n",
    "        \n",
    "        coverage_rate_dict[pdb_id] = water_coverage_rate\n",
    "        precision_dict[pdb_id] = water_precision\n",
    "        \n",
    "    average_coverage_rate = np.mean(all_coverage_rate)\n",
    "    average_precision = np.mean(all_precision)\n",
    "    \n",
    "    max_coverage_rate_pdb_id = max(coverage_rate_dict, key=coverage_rate_dict.get)\n",
    "    min_coverage_rate_pdb_id = min(coverage_rate_dict, key=coverage_rate_dict.get)\n",
    "        \n",
    "    max_precision_pdb_id = max(precision_dict, key=precision_dict.get)\n",
    "    min_precision_pdb_id = min(precision_dict, key=precision_dict.get)\n",
    "    \n",
    "    if not queit:\n",
    "        print(f'Max Coverage Rate within Cutoff {cutoff}A: {coverage_rate_dict[max_coverage_rate_pdb_id]}, PDB ID: {max_coverage_rate_pdb_id}')\n",
    "        print(f'Max Precision within Cutoff {cutoff}A: {precision_dict[max_precision_pdb_id]}, PDB ID: {max_precision_pdb_id}')\n",
    "        print(f'Min Coverage Rate within Cutoff {cutoff}A: {coverage_rate_dict[min_coverage_rate_pdb_id]}, PDB ID: {min_coverage_rate_pdb_id}')\n",
    "        print(f'Min Precision within Cutoff {cutoff}A: {precision_dict[min_precision_pdb_id]}, PDB ID: {min_precision_pdb_id}')\n",
    "        print()\n",
    "        print(f'Average Coverage Rate within Cutoff {cutoff}A: {average_coverage_rate}')\n",
    "        print(f'Average Precision within Cutoff {cutoff}A: {average_precision}')\n",
    "        print()\n",
    "    \n",
    "    return average_coverage_rate, average_precision, coverage_rate_dict"
   ]
  },
  {
   "cell_type": "code",
   "execution_count": 205,
   "id": "25df7334",
   "metadata": {},
   "outputs": [],
   "source": [
    "inference_test_unfiltered_dir = 'inference_out/DiffWater_Inference_val_rr1_L20'"
   ]
  },
  {
   "cell_type": "code",
   "execution_count": 206,
   "id": "76789d85",
   "metadata": {},
   "outputs": [
    {
     "data": {
      "text/plain": [
       "1717"
      ]
     },
     "execution_count": 206,
     "metadata": {},
     "output_type": "execute_result"
    }
   ],
   "source": [
    "len(os.listdir(inference_test_unfiltered_dir))"
   ]
  },
  {
   "cell_type": "code",
   "execution_count": 207,
   "id": "a75a6c57",
   "metadata": {},
   "outputs": [
    {
     "name": "stderr",
     "output_type": "stream",
     "text": [
      "100%|████████████████████████████████████████████████████████████████████████████████████████████████████████████████| 1709/1709 [00:08<00:00, 193.90it/s]"
     ]
    },
    {
     "name": "stdout",
     "output_type": "stream",
     "text": [
      "Max Coverage Rate within Cutoff 1A: 0.7383177570093458, PDB ID: 5P4N\n",
      "Max Precision within Cutoff 1A: 0.7643504531722054, PDB ID: 5PLK\n",
      "Min Coverage Rate within Cutoff 1A: 0.0, PDB ID: 5RVR\n",
      "Min Precision within Cutoff 1A: 0.0, PDB ID: 5RVR\n",
      "\n",
      "Average Coverage Rate within Cutoff 1A: 0.30848817273120765\n",
      "Average Precision within Cutoff 1A: 0.3612227775494319\n",
      "\n"
     ]
    },
    {
     "name": "stderr",
     "output_type": "stream",
     "text": [
      "\n"
     ]
    }
   ],
   "source": [
    "_,_,coverage_rate_dict =  calculate_test_average_coverage_rate_and_precision(cutoff=1)"
   ]
  },
  {
   "cell_type": "code",
   "execution_count": 209,
   "id": "da5f901b",
   "metadata": {},
   "outputs": [
    {
     "name": "stdout",
     "output_type": "stream",
     "text": [
      "Summary of Coverage Rates:\n",
      "Min: 0.0\n",
      "Max: 0.7383177570093458\n",
      "Mean: 0.30848817273120765\n",
      "Median: 0.28065395095367845\n",
      "Standard Deviation: 0.11208820255729283\n",
      "25th Percentile: 0.2358490566037736\n",
      "50th Percentile (Median): 0.28065395095367845\n",
      "75th Percentile: 0.35398230088495575\n"
     ]
    }
   ],
   "source": [
    "coverage_values = list(coverage_rate_dict.values())\n",
    "\n",
    "min_value = np.min(coverage_values)\n",
    "max_value = np.max(coverage_values)\n",
    "mean_value = np.mean(coverage_values)\n",
    "median_value = np.median(coverage_values)\n",
    "std_dev = np.std(coverage_values)\n",
    "percentile_25 = np.percentile(coverage_values, 25)\n",
    "percentile_50 = np.percentile(coverage_values, 50)\n",
    "percentile_75 = np.percentile(coverage_values, 75)\n",
    "\n",
    "print(f\"Summary of Coverage Rates:\")\n",
    "print(f\"Min: {min_value}\")\n",
    "print(f\"Max: {max_value}\")\n",
    "print(f\"Mean: {mean_value}\")\n",
    "print(f\"Median: {median_value}\")\n",
    "print(f\"Standard Deviation: {std_dev}\")\n",
    "print(f\"25th Percentile: {percentile_25}\")\n",
    "print(f\"50th Percentile (Median): {percentile_50}\")\n",
    "print(f\"75th Percentile: {percentile_75}\")"
   ]
  },
  {
   "cell_type": "code",
   "execution_count": 215,
   "id": "03afa52e",
   "metadata": {},
   "outputs": [
    {
     "data": {
      "text/plain": [
       "0.3232073793113151"
      ]
     },
     "execution_count": 215,
     "metadata": {},
     "output_type": "execute_result"
    }
   ],
   "source": [
    "filtered_keys = [key for key, value in coverage_rate_dict.items() if value < 0.2]\n",
    "len(filtered_keys)\n",
    "remaining_values = [value for key, value in coverage_rate_dict.items() if key not in filtered_keys]\n",
    "np.mean(remaining_values)\n",
    "# print(f\"Keys with coverage rate < 0.2: {filtered_keys}\")"
   ]
  },
  {
   "cell_type": "code",
   "execution_count": 216,
   "id": "6fc5d462",
   "metadata": {},
   "outputs": [
    {
     "data": {
      "text/plain": [
       "160"
      ]
     },
     "execution_count": 216,
     "metadata": {},
     "output_type": "execute_result"
    }
   ],
   "source": [
    "len(filtered_keys)"
   ]
  },
  {
   "cell_type": "code",
   "execution_count": 217,
   "id": "c9a5c154",
   "metadata": {},
   "outputs": [
    {
     "name": "stdout",
     "output_type": "stream",
     "text": [
      "2IDQ 0.18235294117647058\n",
      "3GQ1 0.16831683168316833\n",
      "4CST 0.17266187050359713\n",
      "4GJZ 0.18101545253863136\n",
      "8VMS 0.18090452261306533\n",
      "4KZV 0.1984126984126984\n",
      "4PJ2 0.15950920245398773\n",
      "2B97 0.18473895582329317\n",
      "7NYO 0.10619469026548672\n",
      "7KFO 0.19834710743801653\n",
      "4A8U 0.19487179487179487\n",
      "1IWT 0.16996047430830039\n",
      "1SL9 0.1971153846153846\n",
      "1SQZ 0.19369369369369369\n",
      "4Q68 0.1991869918699187\n",
      "4YSI 0.1865079365079365\n",
      "4LOV 0.19081272084805653\n",
      "5W2F 0.19545454545454546\n",
      "2H5C 0.1473429951690821\n",
      "1WQW 0.15625\n",
      "5RVR 0.0\n",
      "5Y1F 0.0\n",
      "8AZX 0.1888412017167382\n",
      "1RFK 0.1277533039647577\n",
      "2Y72 0.17784256559766765\n",
      "6S5W 0.15591397849462366\n",
      "7Y43 0.15151515151515152\n",
      "5IEL 0.024096385542168676\n",
      "8IS2 0.1791044776119403\n",
      "3EAZ 0.1743119266055046\n",
      "7P6S 0.18222222222222223\n",
      "5L2V 0.19435215946843853\n",
      "3F04 0.15673981191222572\n",
      "8R5K 0.17525773195876287\n",
      "2P52 0.1919191919191919\n",
      "2XL6 0.1597444089456869\n",
      "5LND 0.1729957805907173\n",
      "8H0R 0.19230769230769232\n",
      "6F7R 0.0\n",
      "5EL9 0.19895287958115182\n",
      "2UV4 0.16666666666666666\n",
      "7OKL 0.1711229946524064\n",
      "5FBF 0.19550561797752808\n",
      "3QZX 0.18930041152263374\n",
      "6Y7K 0.1694915254237288\n",
      "1N55 0.19230769230769232\n",
      "3X0L 0.19548872180451127\n",
      "4TO7 0.15942028985507245\n",
      "3ZFP 0.18888888888888888\n",
      "6Q9O 0.1912568306010929\n",
      "2CAL 0.1640625\n",
      "8AG2 0.19915254237288135\n",
      "2Q3G 0.18548387096774194\n",
      "2G7B 0.15151515151515152\n",
      "1KPF 0.16783216783216784\n",
      "4B50 0.1910828025477707\n",
      "7KJQ 0.19708029197080293\n",
      "1Q0E 0.17588932806324112\n",
      "3U8I 0.18564356435643564\n",
      "4NBP 0.19\n",
      "5JI8 0.19205298013245034\n",
      "2O5G 0.1940928270042194\n",
      "5QU4 0.19243986254295534\n",
      "6Q6C 0.1925925925925926\n",
      "5V86 0.1875\n",
      "5I0R 0.189873417721519\n",
      "6T9M 0.0\n",
      "4LPK 0.1875\n",
      "7NMT 0.1956521739130435\n",
      "7ZS2 0.19755244755244755\n",
      "2BK9 0.1509433962264151\n",
      "5IT3 0.16666666666666666\n",
      "7SWR 0.18848167539267016\n",
      "1KF4 0.19607843137254902\n",
      "6V7Q 0.18211920529801323\n",
      "7NYK 0.1878453038674033\n",
      "9F4V 0.1971153846153846\n",
      "3F19 0.17434210526315788\n",
      "3ADM 0.18067226890756302\n",
      "8E5Y 0.1067193675889328\n",
      "7JVY 0.18877551020408162\n",
      "1M5A 0.11242603550295859\n",
      "7JWR 0.195\n",
      "5HCL 0.19591836734693877\n",
      "3EUR 0.1822429906542056\n",
      "8Z28 0.19943019943019943\n",
      "1H10 0.17452830188679244\n",
      "1MSO 0.14361702127659576\n",
      "1J0O 0.15298507462686567\n",
      "6KM5 0.0\n",
      "4C6A 0.16722408026755853\n",
      "8ZQF 0.18579234972677597\n",
      "1TW7 0.19705882352941176\n",
      "3T90 0.13245033112582782\n",
      "6A10 0.16407355021216408\n",
      "2CNQ 0.17595307917888564\n",
      "6EQ7 0.1821705426356589\n",
      "2FT7 0.18404907975460122\n",
      "6X94 0.18571428571428572\n",
      "4KPM 0.18421052631578946\n",
      "5SBS 0.172\n",
      "8E1L 0.15053763440860216\n",
      "1SX7 0.17562724014336917\n",
      "3UEJ 0.13592233009708737\n",
      "1USO 0.1943127962085308\n",
      "2NWD 0.16826923076923078\n",
      "2WWE 0.1497005988023952\n",
      "5B0G 0.1780821917808219\n",
      "2XLM 0.1965065502183406\n",
      "8AH5 0.16666666666666666\n",
      "1VL9 0.15178571428571427\n",
      "2I5Z 0.17985611510791366\n",
      "2WPZ 0.18627450980392157\n",
      "3NI3 0.13934426229508196\n",
      "8E3R 0.09540636042402827\n",
      "4CSS 0.1806853582554517\n",
      "1V0N 0.19525547445255476\n",
      "8H1F 0.1926605504587156\n",
      "3JXY 0.1535181236673774\n",
      "5E1W 0.19747899159663865\n",
      "6YBC 0.1619718309859155\n",
      "2ERB 0.19035532994923857\n",
      "7OXD 0.1872146118721461\n",
      "2YL0 0.15432098765432098\n",
      "6YBE 0.12\n",
      "8AWN 0.1893491124260355\n",
      "6ENI 0.19480519480519481\n",
      "6AKN 0.1766109785202864\n",
      "6XA5 0.19572953736654805\n",
      "4IZU 0.19269102990033224\n",
      "2YYX 0.16317991631799164\n",
      "8VFO 0.18238993710691823\n",
      "3OBS 0.15348837209302327\n",
      "4MQ3 0.18435754189944134\n",
      "3RM1 0.13675213675213677\n",
      "3OQY 0.1794871794871795\n",
      "8DA8 0.17708333333333334\n",
      "3QR7 0.08395061728395062\n",
      "5KUE 0.12643678160919541\n",
      "1KNL 0.12903225806451613\n",
      "5HBS 0.13377926421404682\n",
      "1OQQ 0.19313304721030042\n",
      "6RVU 0.0\n",
      "7JJA 0.19148936170212766\n",
      "2WUJ 0.17676767676767677\n",
      "5M97 0.17857142857142858\n",
      "6RT2 0.19069767441860466\n",
      "5Z1C 0.03205128205128205\n",
      "6X9P 0.19655172413793104\n",
      "4PSS 0.18452380952380953\n",
      "4N9S 0.1794871794871795\n",
      "1DG6 0.18181818181818182\n",
      "4M5H 0.182648401826484\n",
      "1QK8 0.16810344827586207\n",
      "5FPZ 0.17032967032967034\n",
      "7K3I 0.13333333333333333\n",
      "3WDN 0.11923076923076924\n",
      "7PH0 0.1891891891891892\n",
      "5JWV 0.17964071856287425\n",
      "7AVK 0.17903930131004367\n"
     ]
    }
   ],
   "source": [
    "for key in filtered_keys:\n",
    "    print(key, coverage_rate_dict[key])"
   ]
  },
  {
   "cell_type": "code",
   "execution_count": 28,
   "id": "4c467ab9",
   "metadata": {},
   "outputs": [
    {
     "name": "stdout",
     "output_type": "stream",
     "text": [
      "6LUZ 0.0\n",
      "4CO0 0.14919354838709678\n",
      "8IWI 0.1368421052631579\n",
      "5XX2 0.12012987012987013\n",
      "5RCE 0.0\n",
      "5S94 0.0\n",
      "6RLX 0.05714285714285714\n",
      "7RXX 0.0\n",
      "1HQJ 0.12213740458015267\n",
      "5KL3 0.1388888888888889\n",
      "6LUX 0.0\n",
      "2NLF 0.11084905660377359\n",
      "6LVA 0.0\n",
      "5Z0X 0.0\n",
      "2JE4 0.06983240223463687\n",
      "4OQ8 0.1375\n",
      "6HG7 0.14864864864864866\n",
      "4CO3 0.0761904761904762\n"
     ]
    }
   ],
   "source": [
    "for key in filtered_keys:\n",
    "    print(key, coverage_rate_dict[key])"
   ]
  },
  {
   "cell_type": "code",
   "execution_count": 29,
   "id": "a6a32daf",
   "metadata": {},
   "outputs": [],
   "source": [
    "def save_bad_list(element_list, file_name):\n",
    "    with open(file_name, 'w') as file:\n",
    "        for element in element_list:\n",
    "            file.write(f\"{element}\\n\")\n",
    "    print(f\"List has been written to {file_name}\")"
   ]
  },
  {
   "cell_type": "code",
   "execution_count": 238,
   "id": "f9389752",
   "metadata": {},
   "outputs": [],
   "source": [
    "bad_test_list = ['3VPY', '4Q27', '5K9F', '1IFC', '2Q8K', '4GEI', '1LQV', '4I9Y', '7CKV', '3PJP', '2OG4', '3PG0', '4ESU', '5LDG', '3F9X', '3BQX', '3HSH', '3C9A', '6W6B', '3FEU', '3HH7', '7ZSF', '2GLZ', '4AIV', '3MNM', '1UKF', '3EFY', '3BT5', '1J98', '1WCW', '2IBN', '5TR9', '8U5E', '3QRL', '1A62']"
   ]
  },
  {
   "cell_type": "code",
   "execution_count": 239,
   "id": "34439558",
   "metadata": {},
   "outputs": [
    {
     "name": "stdout",
     "output_type": "stream",
     "text": [
      "List has been written to bad_test_list.txt\n"
     ]
    }
   ],
   "source": [
    "save_bad_list(bad_test_list, 'bad_test_list.txt')"
   ]
  },
  {
   "cell_type": "code",
   "execution_count": 224,
   "id": "caaac834",
   "metadata": {},
   "outputs": [],
   "source": [
    "bad_val_list = ['6YZG', '2VKJ', '3CVE', '1RFS', '4YTD', '1TIQ', '6PNY', '1E2W', '5UC0', '7DVN', '8F43', '2V9L', '6FJV', '5ONN', '6LCH', '2QIP', '2QT1', '1WLU', '2GWM', '2J05', '3DM8', '3IQT', '4Z2O', '6CPB', '3CWR', '1JB3', '6Q3Q', '1Z1S', '3P42', '1OIS', '5XSO', '2HW2', '2VO8', '2J8G', '4DUI', '3S2R', '4NOB', '1M2D', '3KH7', '1SK4', '3L4E', '5E10']"
   ]
  },
  {
   "cell_type": "code",
   "execution_count": 240,
   "id": "93a8c8ce",
   "metadata": {},
   "outputs": [
    {
     "name": "stdout",
     "output_type": "stream",
     "text": [
      "List has been written to bad_val_list.txt\n"
     ]
    }
   ],
   "source": [
    "save_bad_list(bad_val_list, 'bad_val_list.txt')"
   ]
  },
  {
   "cell_type": "code",
   "execution_count": 235,
   "id": "a8519a7c",
   "metadata": {},
   "outputs": [],
   "source": [
    "bad_train_list = ['3C4B', '2H7Z', '3HFO', '4PUX', '1E29', '1UIX', '6MQ7', '3CHM', '1XKR', '1IJQ', '3N8B', '1T4A', '4JVU', '4YE7', '5G38', '4RZ9', '1BS0', '7PQK', '8QQC', '1NAR', '2WCW', '5EL9', '1S4K', '1VAJ', '2QQ9', '3A57', '4NAZ', '4UU5', '3E0Z', '3U9J', '3SWK', '7X2E', '7YH3', '2XCZ', '6OOD', '2B0V', '7EAD', '5A6S', '5FA8', '3D4E', '2Z0T', '3DMN', '1DZK', '3L1E', '8A9O', '3T90', '3I1A', '3NPD', '2HLV', '2FU0', '2EBN', '6T84', '5NJO', '3KBB', '4NX1', '2X5H', '4TZH', '4MLM', '3EJG', '5HOP', '1F7L', '2P12', '6ZPJ', '1UAR', '2QNT', '3BYP', '2OPC', '1U7I', '8G64', '3NPH', '7ZVO', '3V68', '4F54', '8GYN', '1PKO', '8E2B', '1MY7', '3E0H', '5YHY', '5U2L', '2QGS', '6KJW', '2D28', '4JVW', '8SBN', '1Q5Z', '6CD7', '3BPV', '4TYZ', '3CIJ', '3U3Z', '4H60', '1IO2', '5MLT', '3A2Z', '2FWV', '2DQL', '4EPZ', '2OKU', '2E0Q', '6TAB', '1VMB', '3HX3', '3P2T', '3G89', '1KYF', '5DJE', '1HTW', '6YDR', '6FQ1', '3CJS', '1F2T', '5CTD', '3MGD', '4F8L', '1NKR', '6SJH', '3MWZ', '2XUV', '3CBN', '3HRG', '2EKL', '5FAA', '3CM3', '7RSW', '3MC3', '5ITQ', '4D0Q', '3D3B', '3FFV', '3V7B', '3MB5', '3D79', '6DX1', '6BSC', '1GL2', '5G3X', '7LGC', '8B2Q', '1XSV', '3V0S', '3MST', '3GS9', '1KMV', '5GUQ', '7T1E', '6CNW', '5YWR', '2YZQ', '4Y1S', '5JWO', '4Q8K', '1O1Y', '1VP8', '1WRD', '1WAD', '3L7H', '2AGK', '3F4A', '7KOS', '4O9K', '1HXI', '1WMS', '1W4V', '2Q0Y', '7NYO', '4Z3G', '5J0K', '4ZYA', '1WMH', '6DGG', '6G5P', '3U1L', '1UPI', '2P6Y', '8D5H', '4P82', '1D0D', '4JQF', '4N73', '6XHZ', '3G36', '4Q29', '1ZUH', '4LRJ', '3LAA', '4IIO', '1ZCH', '2IAI', '2NRK', '4QT3', '3KOS', '3M9L', '4TMX', '3BGY', '2PLR', '5OXZ', '8C4P', '5EHA', '1VR9', '1GMU', '2BKY', '4TQX', '6JM5', '3TQ8', '5HGZ', '4YBM', '6SGF', '1FIT', '7WME', '3FZG', '5AR6', '4J9Y', '3HKM', '2CAL', '3GGY', '6U2S', '1VR8', '6GI4', '1T6T', '2IF5', '4P40', '5A98', '7DF2']"
   ]
  },
  {
   "cell_type": "code",
   "execution_count": 241,
   "id": "709693e8",
   "metadata": {},
   "outputs": [
    {
     "name": "stdout",
     "output_type": "stream",
     "text": [
      "List has been written to bad_train_list.txt\n"
     ]
    }
   ],
   "source": [
    "save_bad_list(bad_train_list, 'bad_train_list.txt')"
   ]
  },
  {
   "cell_type": "code",
   "execution_count": 76,
   "id": "2a88a10e",
   "metadata": {},
   "outputs": [],
   "source": [
    "import matplotlib.pyplot as plt\n",
    "\n",
    "def calculate_coverage_rates_for_folders(base_dir, num_folders, cutoff=1):\n",
    "    coverage_rates = []\n",
    "    folder_names = []\n",
    "    \n",
    "    for num in range(1, num_folders + 1):\n",
    "        folder_name = f\"DiffWaterInference_test_rr{num}_L20\"\n",
    "        folder_path = f\"{base_dir}/{folder_name}\"\n",
    "        \n",
    "        # Set the global variables or parameters to point to the current folder\n",
    "        global inference_test_unfiltered_dir\n",
    "        inference_test_unfiltered_dir = folder_path\n",
    "        \n",
    "        # Calculate coverage rate and precision for the current folder\n",
    "        average_coverage_rate, _ = calculate_test_average_coverage_rate_and_precision(cutoff, queit=True)\n",
    "        \n",
    "        # Store the results\n",
    "        coverage_rates.append(average_coverage_rate)\n",
    "        folder_names.append(f\"W/L={num}\")\n",
    "    \n",
    "    return coverage_rates, folder_names, cutoff\n",
    "\n",
    "def plot_coverage_rates(coverage_rates, folder_names, cutoff=1):\n",
    "    plt.figure(figsize=(10, 6))\n",
    "    \n",
    "    plt.plot(folder_names, coverage_rates, marker='o', label='Average Coverage Rate')\n",
    "    \n",
    "    for i, rate in enumerate(coverage_rates):\n",
    "        plt.text(i, rate, f'{rate:.2f}', ha='center', va='bottom')\n",
    "    \n",
    "    plt.xlabel('Ratio')\n",
    "    plt.ylabel('Average Coverage Rate')\n",
    "    plt.title(f'Coverage Rate with Cutoff {cutoff}A')\n",
    "    plt.xticks(rotation=0, ha='center')\n",
    "    plt.grid(True)\n",
    "    plt.tight_layout()\n",
    "    plt.savefig(f'average_coverage_rate_cutoff_{cutoff}.png')\n",
    "    plt.show()"
   ]
  },
  {
   "cell_type": "code",
   "execution_count": 77,
   "id": "fbb263a0",
   "metadata": {},
   "outputs": [
    {
     "data": {
      "image/png": "[encoded data removed]",
      "text/plain": [
       "<Figure size 1000x600 with 1 Axes>"
      ]
     },
     "metadata": {},
     "output_type": "display_data"
    }
   ],
   "source": [
    "# Usage\n",
    "base_dir = 'inference_out'\n",
    "num_folders = 9\n",
    "cutoff = 1\n",
    "\n",
    "coverage_rates, folder_names, cutoff = calculate_coverage_rates_for_folders(base_dir, num_folders, cutoff)\n",
    "plot_coverage_rates(coverage_rates, folder_names, cutoff)"
   ]
  },
  {
   "cell_type": "code",
   "execution_count": 78,
   "id": "3e436abf",
   "metadata": {},
   "outputs": [
    {
     "data": {
      "image/png": "[encoded data removed]",
      "text/plain": [
       "<Figure size 1000x600 with 1 Axes>"
      ]
     },
     "metadata": {},
     "output_type": "display_data"
    }
   ],
   "source": [
    "cutoff = 1.5\n",
    "\n",
    "coverage_rates, folder_names, cutoff = calculate_coverage_rates_for_folders(base_dir, num_folders, cutoff)\n",
    "plot_coverage_rates(coverage_rates, folder_names, cutoff)"
   ]
  },
  {
   "cell_type": "code",
   "execution_count": 79,
   "id": "729063ec",
   "metadata": {},
   "outputs": [
    {
     "data": {
      "image/png": "[encoded data removed]",
      "text/plain": [
       "<Figure size 1000x600 with 1 Axes>"
      ]
     },
     "metadata": {},
     "output_type": "display_data"
    }
   ],
   "source": [
    "cutoff = 2\n",
    "\n",
    "coverage_rates, folder_names, cutoff = calculate_coverage_rates_for_folders(base_dir, num_folders, cutoff)\n",
    "plot_coverage_rates(coverage_rates, folder_names, cutoff)"
   ]
  },
  {
   "cell_type": "code",
   "execution_count": null,
   "id": "2b3ac2aa",
   "metadata": {},
   "outputs": [],
   "source": []
  }
 ],
 "metadata": {
  "kernelspec": {
   "display_name": "Python 3 (ipykernel)",
   "language": "python",
   "name": "python3"
  },
  "language_info": {
   "codemirror_mode": {
    "name": "ipython",
    "version": 3
   },
   "file_extension": ".py",
   "mimetype": "text/x-python",
   "name": "python",
   "nbconvert_exporter": "python",
   "pygments_lexer": "ipython3",
   "version": "3.10.12"
  }
 },
 "nbformat": 4,
 "nbformat_minor": 5
}
